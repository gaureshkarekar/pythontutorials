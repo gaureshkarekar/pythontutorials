{
 "cells": [
  {
   "cell_type": "markdown",
   "metadata": {},
   "source": [
    "Basic Operators in Python"
   ]
  },
  {
   "cell_type": "code",
   "execution_count": 11,
   "metadata": {},
   "outputs": [
    {
     "name": "stdout",
     "output_type": "stream",
     "text": [
      "2.1666666666666665\n",
      "2\n",
      "16\n"
     ]
    }
   ],
   "source": [
    "import math\n",
    "\n",
    "a = 12\n",
    "b = 13\n",
    "\n",
    "# print(a+b)\n",
    "# print(a-b)\n",
    "# print(a*b)\n",
    "# print(a/b)\n",
    "# print(a%b)\n",
    "# print(a//b)\n",
    "\n",
    "print(13/6)\n",
    "print(13//6)\n",
    "print(4**2)"
   ]
  },
  {
   "cell_type": "markdown",
   "metadata": {},
   "source": [
    "Comparator Operators"
   ]
  },
  {
   "cell_type": "code",
   "execution_count": 32,
   "metadata": {},
   "outputs": [
    {
     "name": "stdout",
     "output_type": "stream",
     "text": [
      "True\n",
      "False\n",
      "False\n",
      "True\n",
      "False\n",
      "False\n"
     ]
    }
   ],
   "source": [
    "# ==\n",
    "# >\n",
    "# <\n",
    "# >=\n",
    "# <=\n",
    "# !=\n",
    "\n",
    "print(12==12)\n",
    "print(12>100)\n",
    "print(100<12)\n",
    "print(18<=18)\n",
    "print(15>=18)\n",
    "print(12!=12)"
   ]
  },
  {
   "cell_type": "markdown",
   "metadata": {},
   "source": [
    "Logical Operators"
   ]
  },
  {
   "cell_type": "markdown",
   "metadata": {},
   "source": [
    "AND         \n",
    "\n",
    "1 1 --> 1\n",
    "1 0 --> 0\n",
    "0 1 --> 0\n",
    "0 0 --> 0\n",
    "\n",
    "OR\n",
    "\n",
    "1 1 --> 1\n",
    "1 0 --> 1\n",
    "0 1 --> 1\n",
    "0 0 --> 0\n"
   ]
  },
  {
   "cell_type": "code",
   "execution_count": 43,
   "metadata": {},
   "outputs": [
    {
     "name": "stdout",
     "output_type": "stream",
     "text": [
      "True\n",
      "True\n",
      "True\n",
      "False\n"
     ]
    }
   ],
   "source": [
    "#  AND Operator\n",
    "# print(12<5 and 12>15)\n",
    "\n",
    "#  OR operator\n",
    "print(12>5 or 12<15)\n",
    "print(12<5 or 12<15)\n",
    "print(12>5 or 12>15)\n",
    "print(12<5 or 12>15)\n"
   ]
  },
  {
   "cell_type": "markdown",
   "metadata": {},
   "source": [
    "if elif else"
   ]
  },
  {
   "cell_type": "markdown",
   "metadata": {},
   "source": [
    "x must be less than 10 and greater than 8 then print x is between 8-10\n",
    "else print Hello "
   ]
  },
  {
   "cell_type": "markdown",
   "metadata": {},
   "source": [
    "  if-else nest if-else"
   ]
  },
  {
   "cell_type": "code",
   "execution_count": 51,
   "metadata": {},
   "outputs": [
    {
     "name": "stdout",
     "output_type": "stream",
     "text": [
      "x is greater then 10 \n"
     ]
    }
   ],
   "source": [
    "x = 11\n",
    "\n",
    "if(x > 8):\n",
    "    if(x<10):\n",
    "        print(\"x is greter then 8 and less then 10\")\n",
    "    else:\n",
    "        print(\"x is greater then 10 \")\n",
    "else:\n",
    "    print(\"Less then 8\")\n"
   ]
  },
  {
   "cell_type": "markdown",
   "metadata": {},
   "source": [
    "Use of if elif"
   ]
  },
  {
   "cell_type": "code",
   "execution_count": 62,
   "metadata": {},
   "outputs": [
    {
     "name": "stdout",
     "output_type": "stream",
     "text": [
      "Sorry ! You failed the test !\n"
     ]
    }
   ],
   "source": [
    "marks = int(input('Enter your score'))\n",
    "\n",
    "if(marks <= 35):\n",
    "    print(\"Sorry ! You failed the test !\")\n",
    "elif(marks<=50):\n",
    "    print(\"Pass with D grade\")\n",
    "elif(marks<=70):\n",
    "    print(\"Pass with C grade\")\n",
    "elif(marks<=80):\n",
    "    print(\"Pass with B grade\")\n",
    "elif(marks<=90):\n",
    "    print(\"Pass with A grade\")\n",
    "elif(marks<=100):\n",
    "    print(\"Pass with A+\")\n",
    "else:\n",
    "    print(\"Please Enter marks less then 100\")"
   ]
  },
  {
   "cell_type": "markdown",
   "metadata": {},
   "source": [
    "Use of AND OR"
   ]
  },
  {
   "cell_type": "code",
   "execution_count": 67,
   "metadata": {},
   "outputs": [
    {
     "name": "stdout",
     "output_type": "stream",
     "text": [
      "D grade\n"
     ]
    }
   ],
   "source": [
    "marks = int(input('Enter your score'))\n",
    "\n",
    "if(marks<=100):\n",
    "    if(marks>=35 and marks<=50):\n",
    "        print('D grade')\n",
    "    elif(marks>=51 and marks<=60):\n",
    "        print('C grade')\n",
    "    elif(marks>=61 and marks<=70):\n",
    "        print('B grade')\n",
    "    elif(marks>=71 and marks<=80):\n",
    "        print('A grade')\n",
    "    elif(marks>=81 and marks<=100):\n",
    "        print('Outstanding !!!')\n",
    "    else:\n",
    "        print('Fail !')\n",
    "else:\n",
    "    print('Please enter marks which are less then 100')"
   ]
  }
 ],
 "metadata": {
  "kernelspec": {
   "display_name": "Python 3",
   "language": "python",
   "name": "python3"
  },
  "language_info": {
   "codemirror_mode": {
    "name": "ipython",
    "version": 3
   },
   "file_extension": ".py",
   "mimetype": "text/x-python",
   "name": "python",
   "nbconvert_exporter": "python",
   "pygments_lexer": "ipython3",
   "version": "3.11.4"
  }
 },
 "nbformat": 4,
 "nbformat_minor": 2
}
