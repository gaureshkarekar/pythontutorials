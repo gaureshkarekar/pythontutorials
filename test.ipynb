{
 "cells": [
  {
   "cell_type": "code",
   "execution_count": 10,
   "metadata": {},
   "outputs": [
    {
     "name": "stdout",
     "output_type": "stream",
     "text": [
      "[1, 2, 400, 4556, 654, 767, 4676, 'Hello world']\n"
     ]
    }
   ],
   "source": [
    "ls = [1,2,36,4556,654,767,4676 ,\"Hello world\"]\n",
    "ls[2]= 400\n",
    "print(ls)"
   ]
  },
  {
   "cell_type": "markdown",
   "metadata": {},
   "source": [
    "List <----> tuple \n",
    "mutable      immutable\n",
    "[]            ()\n",
    "heterogenous datatypes "
   ]
  },
  {
   "cell_type": "markdown",
   "metadata": {},
   "source": [
    "Dictionary  {\"key\" : \"value\" , \"key1\" : \"val1\" ,......}\n",
    "\n",
    "sets {1,2,3,4,1,4,1} --> No duplicates , single value "
   ]
  },
  {
   "cell_type": "code",
   "execution_count": 19,
   "metadata": {},
   "outputs": [
    {
     "data": {
      "text/plain": [
       "'COEP'"
      ]
     },
     "execution_count": 19,
     "metadata": {},
     "output_type": "execute_result"
    }
   ],
   "source": [
    "dic = { \"name\" : \"gauresh\" , \"name1\" :\"Mayur\" ,\"school\" :\"COEP\" }\n",
    "\n"
   ]
  },
  {
   "cell_type": "code",
   "execution_count": 24,
   "metadata": {},
   "outputs": [
    {
     "name": "stdout",
     "output_type": "stream",
     "text": [
      "{1, 2, 3, 4}\n"
     ]
    }
   ],
   "source": [
    "s = {1,2,3,4,1,2}\n",
    "\n",
    "print(s)"
   ]
  },
  {
   "cell_type": "code",
   "execution_count": 54,
   "metadata": {},
   "outputs": [
    {
     "name": "stdout",
     "output_type": "stream",
     "text": [
      "Odd number\n"
     ]
    }
   ],
   "source": [
    "ls = [101,202,303,404,506,501]\n",
    "    #  0   1   2   3   4   5\n",
    "\n",
    "\n",
    "if (ls[5] % 2 == 0):\n",
    "    print(\"Even number\")\n",
    "else :\n",
    "    print(\"Odd number\")\n",
    "\n",
    "for i in range(0,len(ls)):\n",
    "    print(ls[i])\n"
   ]
  },
  {
   "cell_type": "code",
   "execution_count": 59,
   "metadata": {},
   "outputs": [
    {
     "name": "stdout",
     "output_type": "stream",
     "text": [
      " Odd Number 101\n",
      "Even Number 202\n",
      " Odd Number 303\n",
      "Even Number 404\n",
      "Even Number 506\n",
      " Odd Number 501\n"
     ]
    }
   ],
   "source": [
    "ls = [101,202,303,404,506,501]\n",
    "\n",
    "for i in ls:\n",
    "    if (i%2 == 0):\n",
    "        print(\"Even Number\" , i)\n",
    "    else:\n",
    "        print(\" Odd Number\" ,i)"
   ]
  },
  {
   "cell_type": "markdown",
   "metadata": {},
   "source": []
  },
  {
   "cell_type": "code",
   "execution_count": 24,
   "metadata": {},
   "outputs": [
    {
     "name": "stdout",
     "output_type": "stream",
     "text": [
      "0 0\n",
      "0 1\n",
      "0 2\n",
      "0 3\n",
      "1 0\n",
      "1 1\n",
      "1 2\n",
      "1 3\n",
      "2 0\n",
      "2 1\n",
      "2 2\n",
      "2 3\n",
      "3 0\n",
      "3 1\n",
      "3 2\n",
      "3 3\n"
     ]
    }
   ],
   "source": [
    "for i in "
   ]
  },
  {
   "cell_type": "markdown",
   "metadata": {},
   "source": [
    "*\n",
    "**\n",
    "***\n",
    "****\n",
    "*****"
   ]
  }
 ],
 "metadata": {
  "kernelspec": {
   "display_name": "Python 3",
   "language": "python",
   "name": "python3"
  },
  "language_info": {
   "codemirror_mode": {
    "name": "ipython",
    "version": 3
   },
   "file_extension": ".py",
   "mimetype": "text/x-python",
   "name": "python",
   "nbconvert_exporter": "python",
   "pygments_lexer": "ipython3",
   "version": "3.11.4"
  }
 },
 "nbformat": 4,
 "nbformat_minor": 2
}
