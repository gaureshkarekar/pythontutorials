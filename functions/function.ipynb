{
 "cells": [
  {
   "cell_type": "markdown",
   "metadata": {},
   "source": [
    "Functions / Methods\n",
    "\n",
    "are the entities which performs given specific task.\n",
    "\n",
    "Types\n",
    "1. User defined\n",
    "2. Prebuilt functions\n",
    "\n",
    "Function Syntax\n",
    "\n",
    "1. Function defination\n",
    "\n",
    "    def function_name():\n",
    "        body\n",
    "        return something\n",
    "\n",
    "2. Function call\n",
    "\n",
    "    function_name()"
   ]
  },
  {
   "cell_type": "markdown",
   "metadata": {},
   "source": [
    "User Defined Functions\n",
    "\n",
    "1. Non-parametarized --> parameters are not passed\n",
    "2. Parametarized --> parameters are passed\n"
   ]
  },
  {
   "cell_type": "code",
   "execution_count": 4,
   "metadata": {},
   "outputs": [
    {
     "name": "stdout",
     "output_type": "stream",
     "text": [
      "Hello world my name is Gauresh\n"
     ]
    }
   ],
   "source": [
    "#  Non-parametarized function\n",
    "\n",
    "def printname():\n",
    "    print(\"Hello world my name is Gauresh\")\n",
    "\n",
    "printname()"
   ]
  },
  {
   "cell_type": "code",
   "execution_count": 13,
   "metadata": {},
   "outputs": [
    {
     "name": "stdout",
     "output_type": "stream",
     "text": [
      "First Parameter : Ashutosh\n",
      "Second Parameter : Gauresh\n"
     ]
    }
   ],
   "source": [
    "#  Parametarized\n",
    "\n",
    "# internal wor name=\"Ashutosh\"  \n",
    "def printname(name1,name2):\n",
    "    print(f\"First Parameter : {name1}\")\n",
    "    print(f\"Second Parameter : {name2}\")\n",
    "\n",
    "printname(\"Ashutosh\",\"Gauresh\")\n",
    "# printname(\"Ashwini\")\n",
    "# printname(\"Urmila\")\n"
   ]
  },
  {
   "cell_type": "code",
   "execution_count": 19,
   "metadata": {},
   "outputs": [
    {
     "name": "stdout",
     "output_type": "stream",
     "text": [
      "Addition is : 135\n"
     ]
    }
   ],
   "source": [
    "# Addition of two numbers\n",
    "\n",
    "def add(num1,num2):\n",
    "    print(f\"Addition is : {num1+num2}\")\n",
    "\n",
    "n1 = int(input(\"Enter First Number : \"))\n",
    "n2 = int(input(\"Enter Second Number : \"))\n",
    "\n",
    "add(n1,n2)"
   ]
  },
  {
   "cell_type": "code",
   "execution_count": 24,
   "metadata": {},
   "outputs": [
    {
     "name": "stdout",
     "output_type": "stream",
     "text": [
      "24\n"
     ]
    }
   ],
   "source": [
    "\n",
    "def add(num1,num2):\n",
    "    return num1+num2\n",
    "\n",
    "sum = add(12,12)\n",
    "print(sum)"
   ]
  },
  {
   "cell_type": "code",
   "execution_count": null,
   "metadata": {},
   "outputs": [],
   "source": []
  }
 ],
 "metadata": {
  "kernelspec": {
   "display_name": "Python 3",
   "language": "python",
   "name": "python3"
  },
  "language_info": {
   "codemirror_mode": {
    "name": "ipython",
    "version": 3
   },
   "file_extension": ".py",
   "mimetype": "text/x-python",
   "name": "python",
   "nbconvert_exporter": "python",
   "pygments_lexer": "ipython3",
   "version": "3.11.4"
  }
 },
 "nbformat": 4,
 "nbformat_minor": 2
}
