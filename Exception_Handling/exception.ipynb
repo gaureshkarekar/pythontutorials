{
 "cells": [
  {
   "cell_type": "markdown",
   "metadata": {},
   "source": [
    "Errors : Errors are problems in a program due to which the program will stop the execution. (Wrong Syntax)\n",
    "\n",
    "Exceptions : Exceptions are raised when some internal events occur which change the normal flow of the program. (Syntactically correct)"
   ]
  },
  {
   "cell_type": "markdown",
   "metadata": {},
   "source": [
    "How To handle Exceptions"
   ]
  },
  {
   "cell_type": "markdown",
   "metadata": {},
   "source": [
    "try-exception"
   ]
  },
  {
   "cell_type": "code",
   "execution_count": 39,
   "metadata": {},
   "outputs": [
    {
     "name": "stdout",
     "output_type": "stream",
     "text": [
      "No exception\n"
     ]
    }
   ],
   "source": [
    "try:\n",
    "    print(\"No exception\")\n",
    "except:\n",
    "    print(\"exception occured\")"
   ]
  },
  {
   "cell_type": "code",
   "execution_count": 40,
   "metadata": {},
   "outputs": [
    {
     "name": "stdout",
     "output_type": "stream",
     "text": [
      "exception occured\n"
     ]
    }
   ],
   "source": [
    "# General exception handling\n",
    "\n",
    "try:\n",
    "    print(2/0)\n",
    "except:\n",
    "    print(\"exception occured\")"
   ]
  },
  {
   "cell_type": "code",
   "execution_count": 53,
   "metadata": {},
   "outputs": [
    {
     "name": "stdout",
     "output_type": "stream",
     "text": [
      "11\n",
      "97238\n",
      "Type Error exception occured and handled successfully\n",
      "Code ran successfully\n"
     ]
    }
   ],
   "source": [
    "# Specific error\n",
    "arr = [1,2,3]\n",
    "try:\n",
    "    arr[3]\n",
    "except IndexError:\n",
    "    print(\"Type Error exception occured and handled successfully\")\n",
    "\n",
    "print(\"Code ran successfully\")"
   ]
  },
  {
   "cell_type": "code",
   "execution_count": 42,
   "metadata": {},
   "outputs": [
    {
     "ename": "TypeError",
     "evalue": "can only concatenate str (not \"int\") to str",
     "output_type": "error",
     "traceback": [
      "\u001b[1;31m---------------------------------------------------------------------------\u001b[0m",
      "\u001b[1;31mTypeError\u001b[0m                                 Traceback (most recent call last)",
      "Cell \u001b[1;32mIn[42], line 3\u001b[0m\n\u001b[0;32m      1\u001b[0m \u001b[38;5;66;03m# Without try except above code\u001b[39;00m\n\u001b[1;32m----> 3\u001b[0m \u001b[38;5;28mstr\u001b[39m \u001b[38;5;241m=\u001b[39m \u001b[38;5;124;43m'\u001b[39;49m\u001b[38;5;124;43mHello world\u001b[39;49m\u001b[38;5;124;43m'\u001b[39;49m\u001b[43m \u001b[49m\u001b[38;5;241;43m+\u001b[39;49m\u001b[43m \u001b[49m\u001b[38;5;241;43m2\u001b[39;49m\n\u001b[0;32m      4\u001b[0m \u001b[38;5;28mprint\u001b[39m(\u001b[38;5;124m\"\u001b[39m\u001b[38;5;124mType Error exception occured and handled successfully\u001b[39m\u001b[38;5;124m\"\u001b[39m)\n\u001b[0;32m      5\u001b[0m \u001b[38;5;28mprint\u001b[39m(\u001b[38;5;124m\"\u001b[39m\u001b[38;5;124mCode ran successfully\u001b[39m\u001b[38;5;124m\"\u001b[39m)\n",
      "\u001b[1;31mTypeError\u001b[0m: can only concatenate str (not \"int\") to str"
     ]
    }
   ],
   "source": [
    "# Without try except above code\n",
    "\n",
    "str = 'Hello world' + 2\n",
    "print(\"Type Error exception occured and handled successfully\")\n",
    "print(\"Code ran successfully\")\n"
   ]
  },
  {
   "cell_type": "code",
   "execution_count": 54,
   "metadata": {},
   "outputs": [
    {
     "name": "stdout",
     "output_type": "stream",
     "text": [
      "11\n",
      "97238\n",
      "Type Error exception occured and handled successfully\n",
      "Code ran successfully\n"
     ]
    }
   ],
   "source": [
    "# Specific error\n",
    "arr = [1,2,3,4,5,6,7789,978,978,978,97238]\n",
    "print(len(arr))\n",
    "\n",
    "try:\n",
    "    arr[len(arr)]\n",
    "except IndexError:\n",
    "    print(arr[len(arr)-1])\n",
    "    print(\"Type Error exception occured and handled successfully\")\n",
    "\n",
    "print(\"Code ran successfully\")"
   ]
  },
  {
   "cell_type": "markdown",
   "metadata": {},
   "source": [
    "try except else"
   ]
  },
  {
   "cell_type": "code",
   "execution_count": 59,
   "metadata": {},
   "outputs": [
    {
     "name": "stdout",
     "output_type": "stream",
     "text": [
      "a/b result in 0 & it is divided by zero\n"
     ]
    }
   ],
   "source": [
    "# try:\n",
    "#     pass\n",
    "# except:\n",
    "#     pass\n",
    "# else:\n",
    "#     pass\n",
    "\n",
    "a,b = 3,3\n",
    "\n",
    "try:\n",
    "    c = ((a+b) / (a-b))\n",
    "except ZeroDivisionError:\n",
    "    print (\"a/b result in 0 & it is divided by zero\")\n",
    "else:\n",
    "    print (c)"
   ]
  },
  {
   "cell_type": "markdown",
   "metadata": {},
   "source": [
    "try except else finally and cutom error using raise"
   ]
  },
  {
   "cell_type": "code",
   "execution_count": 65,
   "metadata": {},
   "outputs": [
    {
     "name": "stdout",
     "output_type": "stream",
     "text": [
      "Authentication task is completed\n"
     ]
    },
    {
     "ename": "NameError",
     "evalue": "Unauthenticated access",
     "output_type": "error",
     "traceback": [
      "\u001b[1;31m---------------------------------------------------------------------------\u001b[0m",
      "\u001b[1;31mNameError\u001b[0m                                 Traceback (most recent call last)",
      "Cell \u001b[1;32mIn[65], line 8\u001b[0m\n\u001b[0;32m      6\u001b[0m         \u001b[38;5;28mprint\u001b[39m(\u001b[38;5;124m\"\u001b[39m\u001b[38;5;124mLogged in\u001b[39m\u001b[38;5;124m\"\u001b[39m)\n\u001b[0;32m      7\u001b[0m     \u001b[38;5;28;01melse\u001b[39;00m:\n\u001b[1;32m----> 8\u001b[0m         \u001b[38;5;28;01mraise\u001b[39;00m \u001b[38;5;167;01mNameError\u001b[39;00m(\u001b[38;5;124m'\u001b[39m\u001b[38;5;124mUnauthenticated access\u001b[39m\u001b[38;5;124m'\u001b[39m)\n\u001b[0;32m      9\u001b[0m \u001b[38;5;28;01mexcept\u001b[39;00m:\n\u001b[0;32m     10\u001b[0m      \u001b[38;5;28;01mraise\u001b[39;00m\n",
      "\u001b[1;31mNameError\u001b[0m: Unauthenticated access"
     ]
    }
   ],
   "source": [
    "\n",
    "user_name = input('Enter your user name')\n",
    "user_pass = input('Enter your password')\n",
    "\n",
    "try:\n",
    "    if(user_name == 'gaureshkarekar777@gmail.com' and user_pass == 'qwerty123'):\n",
    "        print(\"Logged in\")\n",
    "    else:\n",
    "        raise NameError('Unauthenticated access')\n",
    "except:\n",
    "     raise\n",
    "else:\n",
    "    print(\"Gauresh Authorized profile\")\n",
    "finally:\n",
    "    print(\"Authentication task is completed\")"
   ]
  }
 ],
 "metadata": {
  "kernelspec": {
   "display_name": "Python 3",
   "language": "python",
   "name": "python3"
  },
  "language_info": {
   "codemirror_mode": {
    "name": "ipython",
    "version": 3
   },
   "file_extension": ".py",
   "mimetype": "text/x-python",
   "name": "python",
   "nbconvert_exporter": "python",
   "pygments_lexer": "ipython3",
   "version": "3.11.4"
  }
 },
 "nbformat": 4,
 "nbformat_minor": 2
}
