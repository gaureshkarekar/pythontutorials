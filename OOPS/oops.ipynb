{
 "cells": [
  {
   "cell_type": "markdown",
   "metadata": {},
   "source": [
    "OOPs\n",
    "\n",
    "Object Oriented Programming"
   ]
  },
  {
   "cell_type": "markdown",
   "metadata": {},
   "source": [
    "4 Main Pillars / Concepts\n",
    "\n",
    "1) Encapsulation : Wrap the data\n",
    "2) Inheritance\n",
    "3) Polymorphism\n",
    "4) Abstraction\n"
   ]
  },
  {
   "cell_type": "markdown",
   "metadata": {},
   "source": [
    "Class and Object"
   ]
  },
  {
   "cell_type": "markdown",
   "metadata": {},
   "source": [
    "Class is a container which contains attributes/variables and functions.\n",
    "\n",
    "Syntax :\n",
    "\n",
    "Class class_name :\n",
    "    definition\n",
    "\n",
    "Objects/Instance are real time entity."
   ]
  },
  {
   "cell_type": "markdown",
   "metadata": {},
   "source": []
  },
  {
   "cell_type": "code",
   "execution_count": 9,
   "metadata": {},
   "outputs": [
    {
     "name": "stdout",
     "output_type": "stream",
     "text": [
      "****\n"
     ]
    }
   ],
   "source": [
    "class Calculations:\n",
    "    def add(self):\n",
    "        print(12+10)\n",
    "\n",
    "    def pattern(self):\n",
    "        print(\"****\")\n",
    "\n",
    "obj = Calculations()\n",
    "\n",
    "obj.pattern()\n",
    "\n"
   ]
  },
  {
   "cell_type": "code",
   "execution_count": 16,
   "metadata": {},
   "outputs": [
    {
     "name": "stdout",
     "output_type": "stream",
     "text": [
      "Addition is  30\n",
      "Addition is  90\n"
     ]
    }
   ],
   "source": [
    "a=10\n",
    "b=20\n",
    "c=a+b\n",
    "print(\"Addition is \",c)\n",
    "\n",
    "a=40\n",
    "b=50\n",
    "c=a+b\n",
    "print(\"Addition is \",c)\n"
   ]
  },
  {
   "cell_type": "code",
   "execution_count": 11,
   "metadata": {},
   "outputs": [
    {
     "name": "stdout",
     "output_type": "stream",
     "text": [
      "Addition is  30\n"
     ]
    }
   ],
   "source": [
    "def addition():\n",
    "    a=10\n",
    "    b=20\n",
    "    c=a+b\n",
    "    print(\"Addition is \",c)\n",
    "\n",
    "addition()"
   ]
  },
  {
   "cell_type": "code",
   "execution_count": 13,
   "metadata": {},
   "outputs": [
    {
     "name": "stdout",
     "output_type": "stream",
     "text": [
      "Addition is  30\n",
      "Addition is  50\n"
     ]
    }
   ],
   "source": [
    "def addition(a,b):\n",
    "    c=a+b\n",
    "    print(\"Addition is \",c)\n",
    "\n",
    "addition(10,20)\n",
    "addition(20,30)"
   ]
  },
  {
   "cell_type": "code",
   "execution_count": 19,
   "metadata": {},
   "outputs": [
    {
     "name": "stdout",
     "output_type": "stream",
     "text": [
      "Hello world\n"
     ]
    }
   ],
   "source": [
    "class A:\n",
    "    def greet(self):\n",
    "        print(\"Hello world\")\n",
    "\n",
    "obj = A()\n",
    "\n",
    "obj.greet()"
   ]
  }
 ],
 "metadata": {
  "kernelspec": {
   "display_name": "Python 3",
   "language": "python",
   "name": "python3"
  },
  "language_info": {
   "codemirror_mode": {
    "name": "ipython",
    "version": 3
   },
   "file_extension": ".py",
   "mimetype": "text/x-python",
   "name": "python",
   "nbconvert_exporter": "python",
   "pygments_lexer": "ipython3",
   "version": "3.11.4"
  }
 },
 "nbformat": 4,
 "nbformat_minor": 2
}
