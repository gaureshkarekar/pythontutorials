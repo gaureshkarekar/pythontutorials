{
 "cells": [
  {
   "cell_type": "markdown",
   "metadata": {},
   "source": [
    "OOPs\n",
    "\n",
    "Object Oriented Programming"
   ]
  },
  {
   "cell_type": "markdown",
   "metadata": {},
   "source": [
    "4 Main Pillars / Concepts\n",
    "\n",
    "1) Encapsulation : Wrap the data\n",
    "2) Inheritance\n",
    "3) Polymorphism\n",
    "4) Abstraction\n"
   ]
  },
  {
   "cell_type": "markdown",
   "metadata": {},
   "source": [
    "Class and Object"
   ]
  },
  {
   "cell_type": "markdown",
   "metadata": {},
   "source": [
    "Class is a container which contains attributes/variables and functions.\n",
    "\n",
    "Syntax :\n",
    "\n",
    "Class class_name :\n",
    "    definition\n",
    "\n",
    "Objects/Instance are real time entity."
   ]
  },
  {
   "cell_type": "markdown",
   "metadata": {},
   "source": []
  },
  {
   "cell_type": "code",
   "execution_count": 9,
   "metadata": {},
   "outputs": [
    {
     "name": "stdout",
     "output_type": "stream",
     "text": [
      "****\n"
     ]
    }
   ],
   "source": [
    "class Calculations:\n",
    "    def add(self):\n",
    "        print(12+10)\n",
    "\n",
    "    def pattern(self):\n",
    "        print(\"****\")\n",
    "\n",
    "obj = Calculations()\n",
    "\n",
    "obj.pattern()\n",
    "\n"
   ]
  },
  {
   "cell_type": "code",
   "execution_count": 16,
   "metadata": {},
   "outputs": [
    {
     "name": "stdout",
     "output_type": "stream",
     "text": [
      "Addition is  30\n",
      "Addition is  90\n"
     ]
    }
   ],
   "source": [
    "a=10\n",
    "b=20\n",
    "c=a+b\n",
    "print(\"Addition is \",c)\n",
    "\n",
    "a=40\n",
    "b=50\n",
    "c=a+b\n",
    "print(\"Addition is \",c)\n"
   ]
  },
  {
   "cell_type": "code",
   "execution_count": 11,
   "metadata": {},
   "outputs": [
    {
     "name": "stdout",
     "output_type": "stream",
     "text": [
      "Addition is  30\n"
     ]
    }
   ],
   "source": [
    "def addition():\n",
    "    a=10\n",
    "    b=20\n",
    "    c=a+b\n",
    "    print(\"Addition is \",c)\n",
    "\n",
    "addition()"
   ]
  },
  {
   "cell_type": "code",
   "execution_count": 13,
   "metadata": {},
   "outputs": [
    {
     "name": "stdout",
     "output_type": "stream",
     "text": [
      "Addition is  30\n",
      "Addition is  50\n"
     ]
    }
   ],
   "source": [
    "def addition(a,b):\n",
    "    c=a+b\n",
    "    print(\"Addition is \",c)\n",
    "\n",
    "addition(10,20)\n",
    "addition(20,30)"
   ]
  },
  {
   "cell_type": "code",
   "execution_count": 1,
   "metadata": {},
   "outputs": [
    {
     "name": "stdout",
     "output_type": "stream",
     "text": [
      "Hello world\n"
     ]
    }
   ],
   "source": [
    "class A:\n",
    "    def greet(self):\n",
    "        print(\"Hello world\")\n",
    "\n",
    "obj = A()\n",
    "obj.greet()"
   ]
  },
  {
   "cell_type": "markdown",
   "metadata": {},
   "source": [
    "Inheritance : Imbibing the properties from parent class"
   ]
  },
  {
   "cell_type": "markdown",
   "metadata": {},
   "source": [
    "Single-Level , multi-Level , multiple inheritance , Heirarchy"
   ]
  },
  {
   "cell_type": "code",
   "execution_count": 8,
   "metadata": {},
   "outputs": [
    {
     "name": "stdout",
     "output_type": "stream",
     "text": [
      "Hello I am parent\n"
     ]
    }
   ],
   "source": [
    "# Single Level Inheritance\n",
    "\n",
    "class Parent:\n",
    "    def greet(self):\n",
    "        print(\"Hello I am parent\")\n",
    "\n",
    "class Child(Parent):\n",
    "    def printHello(self):\n",
    "        print(\"Hello I am child\")\n",
    "\n",
    "childObj = Child()\n",
    "\n",
    "childObj.greet()\n"
   ]
  },
  {
   "cell_type": "code",
   "execution_count": 12,
   "metadata": {},
   "outputs": [
    {
     "name": "stdout",
     "output_type": "stream",
     "text": [
      "Hello I am Grand child and lowest node\n"
     ]
    }
   ],
   "source": [
    "# Multi-Level Inheritance\n",
    "\n",
    "class Parent:\n",
    "    def greet(self):\n",
    "        print(\"Hello I am parent\")\n",
    "\n",
    "class Child(Parent):\n",
    "    def printHello(self):\n",
    "        print(\"Hello I am child\")\n",
    "\n",
    "class grandChild(Child):\n",
    "    def grandChild(self):\n",
    "        print(\"Hello I am Grand child and lowest node\")\n",
    "\n",
    "gObj = grandChild()\n",
    "\n",
    "gObj.grandChild()\n"
   ]
  },
  {
   "cell_type": "code",
   "execution_count": 17,
   "metadata": {},
   "outputs": [
    {
     "name": "stdout",
     "output_type": "stream",
     "text": [
      "I have two wheels !\n",
      "I can Travel from one place to another !\n",
      "I have four wheels !\n",
      "I can Travel from one place to another !\n"
     ]
    }
   ],
   "source": [
    "# Hierarichal\n",
    "\n",
    "class Vehicle:\n",
    "    def itsFunction(self):\n",
    "        print(\"I can Travel from one place to another !\")\n",
    "\n",
    "class TwoWheeler(Vehicle):\n",
    "    def twoWheeler(self):\n",
    "        print(\"I have two wheels !\") \n",
    "        \n",
    "class FourWheeler(Vehicle):\n",
    "    def fourWheeler(self):\n",
    "        print(\"I have four wheels !\") \n",
    "\n",
    "\n",
    "twoObj = TwoWheeler()\n",
    "\n",
    "fourObj = FourWheeler()\n",
    "\n",
    "twoObj.twoWheeler()\n",
    "twoObj.itsFunction()\n",
    "\n",
    "fourObj.fourWheeler()\n",
    "fourObj.itsFunction()\n"
   ]
  },
  {
   "cell_type": "code",
   "execution_count": 22,
   "metadata": {},
   "outputs": [
    {
     "name": "stdout",
     "output_type": "stream",
     "text": [
      "Mother can cook delicious food so as child\n",
      "Father can drive so as child\n"
     ]
    }
   ],
   "source": [
    "class Father:\n",
    "    def drive(self):\n",
    "        print(\"Father can drive so as child\")\n",
    "\n",
    "class Mother:\n",
    "    def cook(self):\n",
    "        print(\"Mother can cook delicious food so as child\")\n",
    "\n",
    "class Child(Father, Mother):\n",
    "    def studying(self):\n",
    "        print(\"I can study !\")\n",
    "\n",
    "childObj = Child()\n",
    "fatherObj = Father()\n",
    "\n",
    "childObj.cook()\n",
    "childObj.drive()\n",
    "# fatherObj.cook()\n",
    "\n"
   ]
  },
  {
   "cell_type": "code",
   "execution_count": 31,
   "metadata": {},
   "outputs": [
    {
     "name": "stdout",
     "output_type": "stream",
     "text": [
      "Vehicle has Tyres\n",
      "I am a Bike\n"
     ]
    }
   ],
   "source": [
    "class Tyre:\n",
    "    def isTyre(self):\n",
    "        return True\n",
    "class Vehicle:\n",
    "    pass\n",
    "class Car(Tyre):\n",
    "    def car_info(self):\n",
    "        print(\"I am a Car\")\n",
    "class Bike(Tyre):\n",
    "    def bike_info(self):\n",
    "        print(\"I am a Bike\")\n",
    "\n",
    "\n",
    "obj_car = Car()\n",
    "obj_car.isTyre()\n",
    "\n",
    "obj_bike = Bike()\n",
    "obj_bike.isTyre()\n",
    "\n",
    "\n",
    "if (obj_bike.isTyre()):\n",
    "    print(\"Vehicle has Tyres\")\n",
    "    obj_bike.bike_info()\n",
    "else:\n",
    "    print(\"Vehicle has no Tyres\")\n",
    "    \n"
   ]
  },
  {
   "cell_type": "code",
   "execution_count": 13,
   "metadata": {},
   "outputs": [
    {
     "name": "stdout",
     "output_type": "stream",
     "text": [
      "Hello ! My name is  Gauresh\n"
     ]
    }
   ],
   "source": [
    "class A:\n",
    "\n",
    "    def __init__(self,name):\n",
    "        self.name = name\n",
    "\n",
    "    def greet(self):\n",
    "        print(\"Hello ! My name is \",self.name)\n",
    "\n",
    "name = input('Enter your name : ')\n",
    "\n",
    "objA = A(name)\n",
    "\n",
    "objA.greet()\n"
   ]
  },
  {
   "cell_type": "code",
   "execution_count": 38,
   "metadata": {},
   "outputs": [
    {
     "name": "stdout",
     "output_type": "stream",
     "text": [
      "Employee Name : gauresh , Id : 2003532 , Company : TCS\n",
      "Employee Name : Urmila , Id : 2003332 , Company : TCS\n"
     ]
    }
   ],
   "source": [
    "class Employee:\n",
    "\n",
    "    company = \"TCS\"\n",
    "\n",
    "    def __init__(self) -> None:\n",
    "        pass\n",
    "    \n",
    "    def emp_info(self,name,id):\n",
    "        print(f\"Employee Name : {name} , Id : {id} , Company : {self.company}\")\n",
    "\n",
    "    def greet(self):\n",
    "        print(self.company)\n",
    "\n",
    "emp = Employee()\n",
    "\n",
    "emp.emp_info(\"gauresh\",\"2003532\")\n",
    "emp.emp_info(\"Urmila\",\"2003332\")"
   ]
  },
  {
   "cell_type": "code",
   "execution_count": 31,
   "metadata": {},
   "outputs": [
    {
     "data": {
      "text/plain": [
       "'obj1'"
      ]
     },
     "execution_count": 31,
     "metadata": {},
     "output_type": "execute_result"
    }
   ],
   "source": [
    "'obj'+ str(1)"
   ]
  },
  {
   "cell_type": "code",
   "execution_count": 33,
   "metadata": {},
   "outputs": [
    {
     "name": "stdout",
     "output_type": "stream",
     "text": [
      "Lisa is 11 years old\n",
      "cookie is 2 years old\n"
     ]
    }
   ],
   "source": [
    "# Constructors\n",
    "\n",
    "no_entries = int(input(\"How many entries?\"))\n",
    "\n",
    "class Dog:\n",
    "\n",
    "    def __init__(self,name,age):\n",
    "        self.dog_name = name\n",
    "        self.dog_age = age\n",
    "\n",
    "    def information(self):\n",
    "        return f\"{self.dog_name} is {self.dog_age} years old\"\n",
    "        \n",
    "\n",
    "for i in range(no_entries):\n",
    "    dog_name = input(\"Enter your dog name\")\n",
    "    dog_age = int(input(\"Enter your dog age\"))\n",
    "    obj_name = 'dog_obj' + str(i)\n",
    "    obj_name = Dog(dog_name,dog_age)\n",
    "    print(obj_name.information())\n",
    "\n",
    "\n",
    "\n"
   ]
  },
  {
   "cell_type": "code",
   "execution_count": 9,
   "metadata": {},
   "outputs": [
    {
     "name": "stdout",
     "output_type": "stream",
     "text": [
      "Hello world from B\n",
      "None\n"
     ]
    }
   ],
   "source": [
    "# Polymorphism (many forms) - Overloading and Overriding\n",
    "\n",
    "class A :\n",
    "    def greet(self):\n",
    "        print('Hello world from A')\n",
    "\n",
    "class B(A):\n",
    "    def greet(self):\n",
    "        print('Hello world from B')\n",
    "\n",
    "    \n",
    "objB = B()\n",
    "print(objB.greet())"
   ]
  },
  {
   "cell_type": "code",
   "execution_count": 19,
   "metadata": {},
   "outputs": [
    {
     "name": "stdout",
     "output_type": "stream",
     "text": [
      "\n",
      "*\n",
      "**\n",
      "***\n",
      "****\n"
     ]
    }
   ],
   "source": [
    "class Pattern:\n",
    "\n",
    "    def __init__(self,num):\n",
    "        self.num = num\n",
    "\n",
    "    def pyramid(self):\n",
    "        for i in range(self.num) :\n",
    "            print('*',end='')\n",
    "        print()\n",
    "    def slantPattern(self):\n",
    "        pass\n",
    "    def reverseSlantPattern(self):\n",
    "        pass\n",
    "\n",
    "for i in range(5):\n",
    "    obj = Pattern(i)\n",
    "    obj.pyramid()\n",
    "\n",
    "\n",
    "\n",
    "\n"
   ]
  },
  {
   "cell_type": "markdown",
   "metadata": {},
   "source": [
    "Abstraction"
   ]
  },
  {
   "cell_type": "code",
   "execution_count": 27,
   "metadata": {},
   "outputs": [
    {
     "name": "stdout",
     "output_type": "stream",
     "text": [
      "Brand Name Maruti\n",
      "Model Name Alto\n",
      "Year 2006\n",
      "No back storage\n",
      "Brand Name Maruti\n",
      "Model Name Ciaz\n",
      "Year 2016\n",
      "With big back storage\n"
     ]
    }
   ],
   "source": [
    "from abc import ABC, abstractmethod \n",
    "\n",
    "class Car(ABC):\n",
    "\n",
    "    def __init__(self,brand,model,year):\n",
    "        self.brand = brand\n",
    "        self.model = model\n",
    "        self.year = year\n",
    "    \n",
    "    @abstractmethod\n",
    "    def printDetails(self):\n",
    "        pass\n",
    "    \n",
    "    def accelerate(self): \n",
    "        print(\"speed up ...\") \n",
    "\n",
    "    def break_applied(self): \n",
    "        print(\"Car stop\")\n",
    "\n",
    "\n",
    "class HatchBack(Car):\n",
    "    def printDetails(self):\n",
    "        print(\"Brand Name\",self.brand)\n",
    "        print(\"Model Name\",self.model)\n",
    "        print(\"Year\",self.year)\n",
    "        print(\"No back storage\")\n",
    "\n",
    "\n",
    "class Sedan(Car):\n",
    "    def printDetails(self):\n",
    "        print(\"Brand Name\",self.brand)\n",
    "        print(\"Model Name\",self.model)\n",
    "        print(\"Year\",self.year)\n",
    "        print(\"With big back storage\")\n",
    "\n",
    "\n",
    "\n",
    "\n",
    "\n",
    "\n",
    "car1 = HatchBack(\"Maruti\",\"Alto\",2006)\n",
    "car1.printDetails()\n",
    "\n",
    "\n",
    "car2 = Sedan(\"Maruti\",\"Ciaz\",2016)\n",
    "car2.printDetails()"
   ]
  }
 ],
 "metadata": {
  "kernelspec": {
   "display_name": "Python 3",
   "language": "python",
   "name": "python3"
  },
  "language_info": {
   "codemirror_mode": {
    "name": "ipython",
    "version": 3
   },
   "file_extension": ".py",
   "mimetype": "text/x-python",
   "name": "python",
   "nbconvert_exporter": "python",
   "pygments_lexer": "ipython3",
   "version": "3.11.4"
  }
 },
 "nbformat": 4,
 "nbformat_minor": 2
}
