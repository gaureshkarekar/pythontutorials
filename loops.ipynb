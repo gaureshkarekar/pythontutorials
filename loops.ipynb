{
 "cells": [
  {
   "cell_type": "markdown",
   "metadata": {},
   "source": [
    "#Even Odd Using Range"
   ]
  },
  {
   "cell_type": "code",
   "execution_count": 1,
   "metadata": {},
   "outputs": [
    {
     "name": "stdout",
     "output_type": "stream",
     "text": [
      "Odd  9\n",
      "Even  8\n",
      "Odd  3\n",
      "Even  4\n",
      "Even  8\n"
     ]
    }
   ],
   "source": [
    "\n",
    "ls = [9,8,3,4,8]\n",
    "\n",
    "for i in range(5):\n",
    "    if ls[i]%2==0:\n",
    "        print(\"Even \",ls[i])\n",
    "    else:\n",
    "        print(\"Odd \",ls[i])\n"
   ]
  },
  {
   "cell_type": "markdown",
   "metadata": {},
   "source": [
    "#Even Odd using list in foreach"
   ]
  },
  {
   "cell_type": "code",
   "execution_count": 2,
   "metadata": {},
   "outputs": [
    {
     "name": "stdout",
     "output_type": "stream",
     "text": [
      "Odd  9\n",
      "Even  8\n",
      "Odd  3\n",
      "Even  4\n"
     ]
    }
   ],
   "source": [
    "arr = [9,8,3,4]\n",
    "\n",
    "for i in arr:\n",
    "    if i%2==0 :\n",
    "        print(\"Even \",i)\n",
    "    else:\n",
    "        print(\"Odd \",i)"
   ]
  }
 ],
 "metadata": {
  "kernelspec": {
   "display_name": "Python 3",
   "language": "python",
   "name": "python3"
  },
  "language_info": {
   "codemirror_mode": {
    "name": "ipython",
    "version": 3
   },
   "file_extension": ".py",
   "mimetype": "text/x-python",
   "name": "python",
   "nbconvert_exporter": "python",
   "pygments_lexer": "ipython3",
   "version": "3.11.4"
  }
 },
 "nbformat": 4,
 "nbformat_minor": 2
}
